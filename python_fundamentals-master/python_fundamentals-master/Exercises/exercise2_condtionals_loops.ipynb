{
 "cells": [
  {
   "cell_type": "markdown",
   "metadata": {},
   "source": [
    "# Python fundamentals Exercises (Conditionals, Loops)\n",
    "\n",
    "The notebook intends to help you practice these concepts. Attempt honestly.\n",
    "\n",
    "Instructions/Suggestions:\n",
    "1. Don't forget to copy the expression from the Question to code cell!\n",
    "2. You can use the python documentation anytime you want to learn about a new function or attribute."
   ]
  },
  {
   "cell_type": "markdown",
   "metadata": {},
   "source": [
    "## Q1: What would be the output of the following code block?\n",
    "\n",
    "```python\n",
    "count = 4\n",
    "print(count == 2)\n",
    "print(count != 4)\n",
    "print(count > 4)\n",
    "print(count < 6)\n",
    "\n",
    "```\n"
   ]
  },
  {
   "cell_type": "code",
   "execution_count": 7,
   "metadata": {},
   "outputs": [],
   "source": [
    "# code and test below\n",
    "\n"
   ]
  },
  {
   "cell_type": "markdown",
   "metadata": {},
   "source": [
    "## Q2: What would be the output of the following code block?\n",
    "\n",
    "```python\n",
    "color = \"red\"\n",
    "category = \"fruit\"\n",
    "\n",
    "if color == \"red\" and category == \"fruit\":\n",
    "    print(\"We have an Apple!)\n",
    "\n",
    "if color == \"red\" and category == \"vegetable\":\n",
    "    print(\"We have tomatoes\")\n",
    "\n",
    "```\n"
   ]
  },
  {
   "cell_type": "code",
   "execution_count": null,
   "metadata": {},
   "outputs": [],
   "source": [
    "# code and test below\n",
    "\n"
   ]
  },
  {
   "cell_type": "markdown",
   "metadata": {},
   "source": [
    "## Q3: What would be the output of the following code block?\n",
    "\n",
    "```python\n",
    "requested = ['blueberry', 'banana']\n",
    "fruits = ['apple', 'banana', 'watermelon', 'kiwi', 'rasberry']\n",
    "\n",
    "if requested not in fruits:\n",
    "    print(\"Sorry, We don't have bananas in stock. Please review your order!\")\n",
    "\n",
    "else:\n",
    "    print(\"Order is placed!\")\n",
    "\n",
    "```"
   ]
  },
  {
   "cell_type": "code",
   "execution_count": 14,
   "metadata": {},
   "outputs": [],
   "source": [
    "# code and test below\n",
    "\n",
    "    \n"
   ]
  },
  {
   "cell_type": "markdown",
   "metadata": {},
   "source": [
    "## Q4: What would be the output of the following code block?\n",
    "\n",
    "```python\n",
    "scores1 = [1,2,3]\n",
    "scores2 = [1,2,3]\n",
    "\n",
    "print(score1 == score2)\n",
    "\n",
    "```"
   ]
  },
  {
   "cell_type": "code",
   "execution_count": null,
   "metadata": {},
   "outputs": [],
   "source": [
    "# code and test below\n",
    "\n"
   ]
  },
  {
   "cell_type": "markdown",
   "metadata": {},
   "source": [
    "## Q5: What would be the output of the following code block? Learn about 'is' operator.\n",
    "\n",
    "```python\n",
    "scores1 = [1,2,3]\n",
    "scores2 = [1,2,3]\n",
    "\n",
    "print(score1 == score2)\n",
    "print(score1 is score2)\n",
    "\n",
    "```"
   ]
  },
  {
   "cell_type": "code",
   "execution_count": null,
   "metadata": {},
   "outputs": [],
   "source": [
    "# code and test below\n",
    "\n"
   ]
  },
  {
   "cell_type": "markdown",
   "metadata": {},
   "source": [
    "## Q6: Print the following pattern using for loops:\n",
    "\n",
    "*\n",
    "**\n",
    "***\n",
    "****\n",
    ".\n",
    ".\n",
    ".\n",
    "*****....*(n times)\n",
    "\n"
   ]
  },
  {
   "cell_type": "code",
   "execution_count": null,
   "metadata": {},
   "outputs": [],
   "source": [
    "# code and test below\n",
    "\n"
   ]
  },
  {
   "cell_type": "code",
   "execution_count": null,
   "metadata": {},
   "outputs": [],
   "source": [
    "## Q3: What would be the output of the following code block?\n",
    "\n",
    "```python\n",
    "scores = [67, 90, 89, 78, 99, 100]\n",
    "for score  in \n",
    "\n",
    "```"
   ]
  },
  {
   "cell_type": "code",
   "execution_count": null,
   "metadata": {},
   "outputs": [],
   "source": [
    "# code and test below\n",
    "\n"
   ]
  },
  {
   "cell_type": "code",
   "execution_count": null,
   "metadata": {},
   "outputs": [],
   "source": []
  },
  {
   "cell_type": "code",
   "execution_count": null,
   "metadata": {},
   "outputs": [],
   "source": []
  },
  {
   "cell_type": "code",
   "execution_count": null,
   "metadata": {},
   "outputs": [],
   "source": []
  },
  {
   "cell_type": "code",
   "execution_count": null,
   "metadata": {},
   "outputs": [],
   "source": []
  }
 ],
 "metadata": {
  "kernelspec": {
   "display_name": "Python 3",
   "language": "python",
   "name": "python3"
  },
  "language_info": {
   "codemirror_mode": {
    "name": "ipython",
    "version": 3
   },
   "file_extension": ".py",
   "mimetype": "text/x-python",
   "name": "python",
   "nbconvert_exporter": "python",
   "pygments_lexer": "ipython3",
   "version": "3.7.4"
  }
 },
 "nbformat": 4,
 "nbformat_minor": 2
}
