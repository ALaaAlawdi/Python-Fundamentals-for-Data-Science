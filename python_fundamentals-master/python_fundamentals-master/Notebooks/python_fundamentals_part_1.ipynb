{
  "nbformat": 4,
  "nbformat_minor": 0,
  "metadata": {
    "kernelspec": {
      "display_name": "Python 3",
      "language": "python",
      "name": "python3"
    },
    "language_info": {
      "codemirror_mode": {
        "name": "ipython",
        "version": 3
      },
      "file_extension": ".py",
      "mimetype": "text/x-python",
      "name": "python",
      "nbconvert_exporter": "python",
      "pygments_lexer": "ipython3",
      "version": "3.7.6"
    },
    "colab": {
      "name": "python_fundamentals_part-1.ipynb",
      "provenance": [],
      "include_colab_link": true
    }
  },
  "cells": [
    {
      "cell_type": "markdown",
      "metadata": {
        "id": "view-in-github",
        "colab_type": "text"
      },
      "source": [
        "<a href=\"https://colab.research.google.com/github/datasciencewithharshit/python_fundamentals/blob/master/python_fundamentals_part_1.ipynb\" target=\"_parent\"><img src=\"https://colab.research.google.com/assets/colab-badge.svg\" alt=\"Open In Colab\"/></a>"
      ]
    },
    {
      "cell_type": "markdown",
      "metadata": {
        "id": "0rYnuumZbVyV",
        "colab_type": "text"
      },
      "source": [
        "\n",
        "# Python Fundamentals - Part-1\n",
        "In this notebook, we are going to cover:\n",
        "\n",
        "* I/O function and indentation\n",
        "* Variable and their data types\n",
        "* Operations on different data types\n",
        "* String formatting and Operators\n",
        "* Basic Operators\n",
        "* Basics of Python Lists\n"
      ]
    },
    {
      "cell_type": "code",
      "metadata": {
        "id": "OJKpzK01ZwcP",
        "colab_type": "code",
        "colab": {},
        "outputId": "5362e144-d060-44cc-83c8-336d7d1410c2"
      },
      "source": [
        "print(\"Hello World!\")"
      ],
      "execution_count": 0,
      "outputs": [
        {
          "output_type": "stream",
          "text": [
            "Hello World!\n"
          ],
          "name": "stdout"
        }
      ]
    },
    {
      "cell_type": "code",
      "metadata": {
        "id": "Z4c-w--6ZwcY",
        "colab_type": "code",
        "colab": {},
        "outputId": "07f2f908-61c5-4250-e4dd-627279ddb2fc"
      },
      "source": [
        "input()"
      ],
      "execution_count": 0,
      "outputs": [
        {
          "output_type": "stream",
          "text": [
            "data science\n"
          ],
          "name": "stdout"
        },
        {
          "output_type": "execute_result",
          "data": {
            "text/plain": [
              "'data science'"
            ]
          },
          "metadata": {
            "tags": []
          },
          "execution_count": 2
        }
      ]
    },
    {
      "cell_type": "code",
      "metadata": {
        "id": "gTcLmNYRZwcc",
        "colab_type": "code",
        "colab": {},
        "outputId": "dca32a8a-7f85-4e3c-fb3a-4c012a45d9c8"
      },
      "source": [
        "a = 5\n",
        "if a == 5:\n",
        "    # 4 indented spaces to this block of code\n",
        "    print(\"a equals 5\")"
      ],
      "execution_count": 0,
      "outputs": [
        {
          "output_type": "stream",
          "text": [
            "a equals 5\n"
          ],
          "name": "stdout"
        }
      ]
    },
    {
      "cell_type": "code",
      "metadata": {
        "id": "abBcWjPUZwcj",
        "colab_type": "code",
        "colab": {},
        "outputId": "1189d460-f15d-4103-ff0e-57ee67a5004c"
      },
      "source": [
        "myString = 'hello world'\n",
        "print(type(myString))"
      ],
      "execution_count": 0,
      "outputs": [
        {
          "output_type": "stream",
          "text": [
            "<class 'str'>\n"
          ],
          "name": "stdout"
        }
      ]
    },
    {
      "cell_type": "code",
      "metadata": {
        "id": "lOrlk-kiZwcp",
        "colab_type": "code",
        "colab": {},
        "outputId": "d69abe74-0f85-4fd2-84d8-9ab793551ec3"
      },
      "source": [
        "n = 10\n",
        "print(type(n))"
      ],
      "execution_count": 0,
      "outputs": [
        {
          "output_type": "stream",
          "text": [
            "<class 'int'>\n"
          ],
          "name": "stdout"
        }
      ]
    },
    {
      "cell_type": "code",
      "metadata": {
        "id": "SGYF1sBHZwcu",
        "colab_type": "code",
        "colab": {},
        "outputId": "a5fad630-8703-4a62-c0de-54eb46ccecbe"
      },
      "source": [
        "n_float = 7.5\n",
        "print(type(n_float))"
      ],
      "execution_count": 0,
      "outputs": [
        {
          "output_type": "stream",
          "text": [
            "<class 'float'>\n"
          ],
          "name": "stdout"
        }
      ]
    },
    {
      "cell_type": "code",
      "metadata": {
        "id": "xZRcpvudZwcz",
        "colab_type": "code",
        "colab": {},
        "outputId": "4e329fad-a8e6-41bd-f77f-4377496bd813"
      },
      "source": [
        "single_string = 'Its a single quote string'\n",
        "print(single_string)"
      ],
      "execution_count": 0,
      "outputs": [
        {
          "output_type": "error",
          "ename": "SyntaxError",
          "evalue": "invalid syntax (<ipython-input-11-dbe7c6e4d27f>, line 1)",
          "traceback": [
            "\u001b[0;36m  File \u001b[0;32m\"<ipython-input-11-dbe7c6e4d27f>\"\u001b[0;36m, line \u001b[0;32m1\u001b[0m\n\u001b[0;31m    single_string = 'It's a single quote string'\u001b[0m\n\u001b[0m                        ^\u001b[0m\n\u001b[0;31mSyntaxError\u001b[0m\u001b[0;31m:\u001b[0m invalid syntax\n"
          ]
        }
      ]
    },
    {
      "cell_type": "code",
      "metadata": {
        "id": "w8zH8nMTZwc4",
        "colab_type": "code",
        "colab": {},
        "outputId": "44dbe354-96a6-4023-ea0f-532c885fd136"
      },
      "source": [
        "double_string = \"It's a double quote string\"\n",
        "print(double_string)"
      ],
      "execution_count": 0,
      "outputs": [
        {
          "output_type": "stream",
          "text": [
            "It's a double quote string\n"
          ],
          "name": "stdout"
        }
      ]
    },
    {
      "cell_type": "code",
      "metadata": {
        "id": "45ACz7IAZwc9",
        "colab_type": "code",
        "colab": {},
        "outputId": "a90ffd7c-ca11-4063-b11c-7336a40a7eb0"
      },
      "source": [
        "n1 = 5\n",
        "n2 = 7.5\n",
        "print(n1+n2)"
      ],
      "execution_count": 0,
      "outputs": [
        {
          "output_type": "stream",
          "text": [
            "12.5\n"
          ],
          "name": "stdout"
        }
      ]
    },
    {
      "cell_type": "code",
      "metadata": {
        "id": "L9uPR7S8ZwdB",
        "colab_type": "code",
        "colab": {},
        "outputId": "17005e71-bf74-4ed7-db2f-f2ee41d2bc72"
      },
      "source": [
        "nstr1 = \"abc\"\n",
        "print(nstr1 + n1)"
      ],
      "execution_count": 0,
      "outputs": [
        {
          "output_type": "error",
          "ename": "TypeError",
          "evalue": "can only concatenate str (not \"int\") to str",
          "traceback": [
            "\u001b[0;31m---------------------------------------------------------------------------\u001b[0m",
            "\u001b[0;31mTypeError\u001b[0m                                 Traceback (most recent call last)",
            "\u001b[0;32m<ipython-input-18-1d5cacb6336b>\u001b[0m in \u001b[0;36m<module>\u001b[0;34m\u001b[0m\n\u001b[1;32m      1\u001b[0m \u001b[0mnstr1\u001b[0m \u001b[0;34m=\u001b[0m \u001b[0;34m\"abc\"\u001b[0m\u001b[0;34m\u001b[0m\u001b[0;34m\u001b[0m\u001b[0m\n\u001b[0;32m----> 2\u001b[0;31m \u001b[0mprint\u001b[0m\u001b[0;34m(\u001b[0m\u001b[0mnstr1\u001b[0m \u001b[0;34m+\u001b[0m \u001b[0mn1\u001b[0m\u001b[0;34m)\u001b[0m\u001b[0;34m\u001b[0m\u001b[0;34m\u001b[0m\u001b[0m\n\u001b[0m",
            "\u001b[0;31mTypeError\u001b[0m: can only concatenate str (not \"int\") to str"
          ]
        }
      ]
    },
    {
      "cell_type": "code",
      "metadata": {
        "id": "7hL47rL2ZwdF",
        "colab_type": "code",
        "colab": {},
        "outputId": "556e49b2-efef-49c1-beb5-bd7e15936214"
      },
      "source": [
        "nstr2 = \"def\"\n",
        "print(nstr1 + nstr2)"
      ],
      "execution_count": 0,
      "outputs": [
        {
          "output_type": "stream",
          "text": [
            "abcdef\n"
          ],
          "name": "stdout"
        }
      ]
    },
    {
      "cell_type": "code",
      "metadata": {
        "id": "dHh3wrzEZwdJ",
        "colab_type": "code",
        "colab": {}
      },
      "source": [
        "n1, n2 = 10, 11"
      ],
      "execution_count": 0,
      "outputs": []
    },
    {
      "cell_type": "code",
      "metadata": {
        "id": "k_sPvrAxZwdN",
        "colab_type": "code",
        "colab": {},
        "outputId": "c1fae2c6-bce4-46c6-abc4-2edb35bb3b9c"
      },
      "source": [
        "n1"
      ],
      "execution_count": 0,
      "outputs": [
        {
          "output_type": "execute_result",
          "data": {
            "text/plain": [
              "10"
            ]
          },
          "metadata": {
            "tags": []
          },
          "execution_count": 24
        }
      ]
    },
    {
      "cell_type": "code",
      "metadata": {
        "id": "uM8ntbFHZwdT",
        "colab_type": "code",
        "colab": {},
        "outputId": "397c8e6f-cc09-4424-a1bb-60c3248d8b17"
      },
      "source": [
        "n2"
      ],
      "execution_count": 0,
      "outputs": [
        {
          "output_type": "execute_result",
          "data": {
            "text/plain": [
              "11"
            ]
          },
          "metadata": {
            "tags": []
          },
          "execution_count": 25
        }
      ]
    },
    {
      "cell_type": "code",
      "metadata": {
        "id": "Dbis3Lh_ZwdX",
        "colab_type": "code",
        "colab": {},
        "outputId": "8abe2bf5-981c-4a6d-bb93-59a8992c8006"
      },
      "source": [
        "result = 3 + 4.0 / 2 * 5  # DMAS\n",
        "print(result)"
      ],
      "execution_count": 0,
      "outputs": [
        {
          "output_type": "stream",
          "text": [
            "13.0\n"
          ],
          "name": "stdout"
        }
      ]
    },
    {
      "cell_type": "code",
      "metadata": {
        "id": "bz3C6xtSZwdd",
        "colab_type": "code",
        "colab": {},
        "outputId": "6e3c26d5-81b9-4315-ee38-e511681f4b5f"
      },
      "source": [
        "# module operator %\n",
        "remainder = 17%10\n",
        "print(remainder)"
      ],
      "execution_count": 0,
      "outputs": [
        {
          "output_type": "stream",
          "text": [
            "7\n"
          ],
          "name": "stdout"
        }
      ]
    },
    {
      "cell_type": "code",
      "metadata": {
        "id": "teGa-QREZwdl",
        "colab_type": "code",
        "colab": {},
        "outputId": "0201d3b7-1220-48cd-fbb5-19bc420fad62"
      },
      "source": [
        "# x ^ n\n",
        "x = 5\n",
        "n = 4\n",
        "print(x ** n)"
      ],
      "execution_count": 0,
      "outputs": [
        {
          "output_type": "stream",
          "text": [
            "625\n"
          ],
          "name": "stdout"
        }
      ]
    },
    {
      "cell_type": "code",
      "metadata": {
        "id": "Ip07RFsZZwdp",
        "colab_type": "code",
        "colab": {}
      },
      "source": [
        "nstr = \"abc\"\n",
        "ans = nstr * 10"
      ],
      "execution_count": 0,
      "outputs": []
    },
    {
      "cell_type": "code",
      "metadata": {
        "id": "YbFxbZYIZwds",
        "colab_type": "code",
        "colab": {},
        "outputId": "856bcdc1-42cd-4ebf-ae3a-0e66e4b40dd5"
      },
      "source": [
        "print(len(ans))"
      ],
      "execution_count": 0,
      "outputs": [
        {
          "output_type": "stream",
          "text": [
            "30\n"
          ],
          "name": "stdout"
        }
      ]
    },
    {
      "cell_type": "code",
      "metadata": {
        "id": "CpgmSk--Zwdx",
        "colab_type": "code",
        "colab": {},
        "outputId": "b4aa473d-aa95-404d-e5a5-1bb5fc83f3e9"
      },
      "source": [
        "name = \"Harshit\"\n",
        "print(\"%s is a data scientist!\" %name)"
      ],
      "execution_count": 0,
      "outputs": [
        {
          "output_type": "stream",
          "text": [
            "Harshit is a data scientist!\n"
          ],
          "name": "stdout"
        }
      ]
    },
    {
      "cell_type": "code",
      "metadata": {
        "id": "atXjzC-5Zwd1",
        "colab_type": "code",
        "colab": {},
        "outputId": "bf8f2d58-b5ce-4c99-df16-60670db6e909"
      },
      "source": [
        "name.upper()"
      ],
      "execution_count": 0,
      "outputs": [
        {
          "output_type": "execute_result",
          "data": {
            "text/plain": [
              "'HARSHIT'"
            ]
          },
          "metadata": {
            "tags": []
          },
          "execution_count": 40
        }
      ]
    },
    {
      "cell_type": "code",
      "metadata": {
        "id": "BROnctgPZwd5",
        "colab_type": "code",
        "colab": {},
        "outputId": "710fd5f1-a4a2-4423-a847-aeb3bfd3c05a"
      },
      "source": [
        "name.lower()"
      ],
      "execution_count": 0,
      "outputs": [
        {
          "output_type": "execute_result",
          "data": {
            "text/plain": [
              "'harshit'"
            ]
          },
          "metadata": {
            "tags": []
          },
          "execution_count": 41
        }
      ]
    },
    {
      "cell_type": "code",
      "metadata": {
        "id": "QWvzhR41Zwd_",
        "colab_type": "code",
        "colab": {},
        "outputId": "4920717f-0398-4e9e-995e-1f8227d60630"
      },
      "source": [
        "nstr = \"it is a nice day today.\"\n",
        "nstr.capitalize()"
      ],
      "execution_count": 0,
      "outputs": [
        {
          "output_type": "execute_result",
          "data": {
            "text/plain": [
              "'It is a nice day today.'"
            ]
          },
          "metadata": {
            "tags": []
          },
          "execution_count": 42
        }
      ]
    },
    {
      "cell_type": "code",
      "metadata": {
        "id": "R2ROF-N8ZweD",
        "colab_type": "code",
        "colab": {},
        "outputId": "3e9a3a14-e469-46e1-ff07-5f54b3844e27"
      },
      "source": [
        "name.index('s')"
      ],
      "execution_count": 0,
      "outputs": [
        {
          "output_type": "execute_result",
          "data": {
            "text/plain": [
              "3"
            ]
          },
          "metadata": {
            "tags": []
          },
          "execution_count": 44
        }
      ]
    },
    {
      "cell_type": "code",
      "metadata": {
        "id": "vjKGED4eZweH",
        "colab_type": "code",
        "colab": {},
        "outputId": "fef0c3e1-cb10-48d6-e43c-c909156360fa"
      },
      "source": [
        "name[2:5]"
      ],
      "execution_count": 0,
      "outputs": [
        {
          "output_type": "execute_result",
          "data": {
            "text/plain": [
              "'rsh'"
            ]
          },
          "metadata": {
            "tags": []
          },
          "execution_count": 45
        }
      ]
    },
    {
      "cell_type": "code",
      "metadata": {
        "id": "8PBwGtuhZweK",
        "colab_type": "code",
        "colab": {},
        "outputId": "fce320d4-6aca-4059-ac69-d2fb9bf32b4b"
      },
      "source": [
        "name[2:6:2]"
      ],
      "execution_count": 0,
      "outputs": [
        {
          "output_type": "execute_result",
          "data": {
            "text/plain": [
              "'rh'"
            ]
          },
          "metadata": {
            "tags": []
          },
          "execution_count": 46
        }
      ]
    },
    {
      "cell_type": "code",
      "metadata": {
        "id": "AKgDmpq3ZweP",
        "colab_type": "code",
        "colab": {},
        "outputId": "05a5781e-81fb-418e-f784-2f52f77290d3"
      },
      "source": [
        "alist = [3,4,5]\n",
        "print(alist)"
      ],
      "execution_count": 0,
      "outputs": [
        {
          "output_type": "stream",
          "text": [
            "[3, 4, 5]\n"
          ],
          "name": "stdout"
        }
      ]
    },
    {
      "cell_type": "code",
      "metadata": {
        "id": "YKqSZxXMZweR",
        "colab_type": "code",
        "colab": {},
        "outputId": "251b3422-8bf8-4b21-a82c-ab786e4e8c46"
      },
      "source": [
        "alist = ['harshit', 2, 5.5]\n",
        "print(alist)"
      ],
      "execution_count": 0,
      "outputs": [
        {
          "output_type": "stream",
          "text": [
            "['harshit', 2, 5.5]\n"
          ],
          "name": "stdout"
        }
      ]
    },
    {
      "cell_type": "code",
      "metadata": {
        "id": "j_qJCbh6ZweU",
        "colab_type": "code",
        "colab": {},
        "outputId": "405e39dd-4256-4fe5-d25e-10f64d739c64"
      },
      "source": [
        "alist.append(10)\n",
        "alist.append(15)\n",
        "print(alist)"
      ],
      "execution_count": 0,
      "outputs": [
        {
          "output_type": "stream",
          "text": [
            "['harshit', 2, 5.5, 10, 15]\n"
          ],
          "name": "stdout"
        }
      ]
    },
    {
      "cell_type": "code",
      "metadata": {
        "id": "lQRu9ys2ZweX",
        "colab_type": "code",
        "colab": {},
        "outputId": "0d7cdee6-6704-4ce6-f338-8a6d4f456276"
      },
      "source": [
        "alist.pop()\n",
        "print(alist)"
      ],
      "execution_count": 0,
      "outputs": [
        {
          "output_type": "stream",
          "text": [
            "['harshit', 2, 5.5, 10]\n"
          ],
          "name": "stdout"
        }
      ]
    },
    {
      "cell_type": "code",
      "metadata": {
        "id": "wTe8rfuhZwed",
        "colab_type": "code",
        "colab": {},
        "outputId": "98a5802c-1367-4da3-f138-9c9640a0b8e2"
      },
      "source": [
        "alist[3]"
      ],
      "execution_count": 0,
      "outputs": [
        {
          "output_type": "execute_result",
          "data": {
            "text/plain": [
              "10"
            ]
          },
          "metadata": {
            "tags": []
          },
          "execution_count": 53
        }
      ]
    },
    {
      "cell_type": "code",
      "metadata": {
        "id": "uHVn8hV8Zwei",
        "colab_type": "code",
        "colab": {},
        "outputId": "08442004-c3b5-4a0b-80cc-b2ea2970390b"
      },
      "source": [
        "alist[1:]"
      ],
      "execution_count": 0,
      "outputs": [
        {
          "output_type": "execute_result",
          "data": {
            "text/plain": [
              "[2, 5.5, 10]"
            ]
          },
          "metadata": {
            "tags": []
          },
          "execution_count": 54
        }
      ]
    },
    {
      "cell_type": "code",
      "metadata": {
        "id": "AUlw133RZwem",
        "colab_type": "code",
        "colab": {},
        "outputId": "4afc1b30-e1f9-4551-b491-8c0a9dbf134c"
      },
      "source": [
        "alist.append([1,2,3])\n",
        "print(alist)"
      ],
      "execution_count": 0,
      "outputs": [
        {
          "output_type": "stream",
          "text": [
            "['harshit', 2, 5.5, 10, [1, 2, 3]]\n"
          ],
          "name": "stdout"
        }
      ]
    },
    {
      "cell_type": "code",
      "metadata": {
        "id": "ZZII_cfFZwer",
        "colab_type": "code",
        "colab": {},
        "outputId": "267f9bde-29bc-43b0-982b-e3248581050d"
      },
      "source": [
        "alist*2"
      ],
      "execution_count": 0,
      "outputs": [
        {
          "output_type": "execute_result",
          "data": {
            "text/plain": [
              "['harshit', 2, 5.5, 10, [1, 2, 3], 'harshit', 2, 5.5, 10, [1, 2, 3]]"
            ]
          },
          "metadata": {
            "tags": []
          },
          "execution_count": 56
        }
      ]
    },
    {
      "cell_type": "code",
      "metadata": {
        "id": "WzKLOsbjZweu",
        "colab_type": "code",
        "colab": {},
        "outputId": "da11b84b-7265-4736-a161-240bca14aba0"
      },
      "source": [
        "alist + alist"
      ],
      "execution_count": 0,
      "outputs": [
        {
          "output_type": "execute_result",
          "data": {
            "text/plain": [
              "['harshit', 2, 5.5, 10, [1, 2, 3], 'harshit', 2, 5.5, 10, [1, 2, 3]]"
            ]
          },
          "metadata": {
            "tags": []
          },
          "execution_count": 57
        }
      ]
    }
  ]
}